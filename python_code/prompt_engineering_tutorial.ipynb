{
 "cells": [
  {
   "cell_type": "code",
   "execution_count": 1,
   "id": "3d93bc34",
   "metadata": {},
   "outputs": [
    {
     "data": {
      "text/plain": [
       "True"
      ]
     },
     "execution_count": 1,
     "metadata": {},
     "output_type": "execute_result"
    }
   ],
   "source": [
    "from openai import OpenAI\n",
    "from dotenv import load_dotenv\n",
    "from sklearn.metrics.pairwise import cosine_similarity\n",
    "import os\n",
    "import requests\n",
    "import json\n",
    "\n",
    "# Load env variables\n",
    "load_dotenv()"
   ]
  },
  {
   "cell_type": "code",
   "execution_count": 2,
   "id": "9f94d827",
   "metadata": {},
   "outputs": [],
   "source": [
    "# variables from .env\n",
    "RUNPOD_TOKEN = os.getenv(\"RUNPOD_TOKEN\")\n",
    "RUNPOD_CHATBOT_URL = os.getenv(\"RUNPOD_CHATBOT_URL\")  # should be .../runsync\n",
    "MODEL_NAME = os.getenv(\"MODEL_NAME\")\n"
   ]
  },
  {
   "cell_type": "code",
   "execution_count": null,
   "id": "1535461f",
   "metadata": {},
   "outputs": [
    {
     "name": "stdout",
     "output_type": "stream",
     "text": [
      "Chatbot output:\n",
      " The capital of England is London.\n"
     ]
    }
   ],
   "source": [
    "def get_chatbot_response(model_name, messages, temperature=0):\n",
    "    payload = {\n",
    "        \"input\": {\n",
    "            \"model\": model_name,\n",
    "            \"messages\": messages,\n",
    "            \"temperature\": temperature,\n",
    "            \"top_p\": 0.8,\n",
    "            \"max_tokens\": 2000\n",
    "        }\n",
    "    }\n",
    "\n",
    "    headers = {\n",
    "        \"Authorization\": f\"Bearer {RUNPOD_TOKEN}\",\n",
    "        \"Content-Type\": \"application/json\"\n",
    "    }\n",
    "\n",
    "    response = requests.post(RUNPOD_CHATBOT_URL, json=payload, headers=headers)\n",
    "    response.raise_for_status()\n",
    "    result = response.json()\n",
    "\n",
    "    try:\n",
    "        # Get the first string inside tokens\n",
    "        final_text = result[\"output\"][0][\"choices\"][0][\"tokens\"][0]\n",
    "    except (KeyError, IndexError, TypeError):\n",
    "        final_text = \"No output returned\"\n",
    "\n",
    "    # Return in OpenAI-style format\n",
    "    return {\n",
    "        \"choices\": [\n",
    "            {\"message\": {\"role\": \"assistant\", \"content\": final_text}}\n",
    "        ]\n",
    "    }\n",
    "\n",
    "# Example\n",
    "if __name__ == \"__main__\":\n",
    "    messages = [{\"role\": \"system\", \"content\": \"What is the capital of England\"}]\n",
    "    response = get_chatbot_response(MODEL_NAME, messages)\n",
    "    print(\"Chatbot output:\\n\", response[\"choices\"][0][\"message\"][\"content\"])\n"
   ]
  },
  {
   "cell_type": "code",
   "execution_count": null,
   "id": "89b58670",
   "metadata": {},
   "outputs": [],
   "source": [
    "\"\"\" from dotenv import load_dotenv\n",
    "from sklearn.metrics.pairwise import cosine_similarity\n",
    "import os\n",
    "import requests\n",
    "import json\n",
    "\n",
    "# Load env variables\n",
    "load_dotenv()\n",
    "\n",
    "\n",
    "\n",
    "RUNPOD_TOKEN = os.getenv(\"RUNPOD_TOKEN\")\n",
    "RUNPOD_CHATBOT_URL = os.getenv(\"RUNPOD_CHATBOT_URL\")  # should be .../runsync\n",
    "MODEL_NAME = os.getenv(\"MODEL_NAME\")\n",
    "RUNPOD_EMBEDDING_URL = os.getenv(\"RUNPOD_EMBEDDING_URL\")\n",
    "EMBEDDING_MODEL_NAME = os.getenv(\"EMBEDDING_MODEL_NAME\")\n",
    "\n",
    "def get_chatbot_response(model_name, messages, temperature=0):\n",
    "    payload = {\n",
    "        \"input\": {\n",
    "            \"model\": model_name,\n",
    "            \"messages\": messages,\n",
    "            \"temperature\": temperature,\n",
    "            \"top_p\": 0.8,\n",
    "            \"max_tokens\": 2000\n",
    "        }\n",
    "    }\n",
    "\n",
    "    headers = {\n",
    "        \"Authorization\": f\"Bearer {RUNPOD_TOKEN}\",\n",
    "        \"Content-Type\": \"application/json\"\n",
    "    }\n",
    "\n",
    "    response = requests.post(RUNPOD_CHATBOT_URL, json=payload, headers=headers)\n",
    "    response.raise_for_status()\n",
    "\n",
    "    result = response.json()\n",
    "\n",
    "    # Parse RunPod's output format\n",
    "    try:\n",
    "        output_tokens = result[\"output\"][0][\"choices\"][0][\"tokens\"]\n",
    "        final_text = \" \".join(output_tokens)\n",
    "    except (KeyError, IndexError, TypeError):\n",
    "        final_text = \"No output returned\"\n",
    "\n",
    "    return final_text   \"\"\""
   ]
  },
  {
   "cell_type": "markdown",
   "id": "d8c8df13",
   "metadata": {},
   "source": [
    "# Get LLM Response"
   ]
  },
  {
   "cell_type": "code",
   "execution_count": null,
   "id": "048cc825",
   "metadata": {},
   "outputs": [
    {
     "name": "stdout",
     "output_type": "stream",
     "text": [
      "Chatbot output:\n",
      " The capital of England is London.\n"
     ]
    }
   ],
   "source": [
    "# Example usage\n",
    "messages = [{\"role\": \"system\", \"content\": \"What is the capital of England\"}]\n",
    "response = get_chatbot_response(MODEL_NAME, messages)\n",
    "print(\"Chatbot output:\\n\", response)"
   ]
  },
  {
   "cell_type": "code",
   "execution_count": 7,
   "id": "de5039b6",
   "metadata": {},
   "outputs": [
    {
     "data": {
      "text/plain": [
       "'The capital of England is London.'"
      ]
     },
     "execution_count": 7,
     "metadata": {},
     "output_type": "execute_result"
    }
   ],
   "source": [
    "response"
   ]
  },
  {
   "cell_type": "markdown",
   "id": "b4185906",
   "metadata": {},
   "source": [
    "# Prompt Engineering"
   ]
  },
  {
   "cell_type": "markdown",
   "id": "44731a83",
   "metadata": {},
   "source": [
    "## Structured Output"
   ]
  },
  {
   "cell_type": "code",
   "execution_count": 14,
   "id": "5a565e36",
   "metadata": {},
   "outputs": [
    {
     "name": "stdout",
     "output_type": "stream",
     "text": [
      "[\n",
      "{\n",
      "    \"country\": \"England\",\n",
      "    \"capital\": \"London\"\n",
      "}]\n"
     ]
    }
   ],
   "source": [
    "system_prompt = \"\"\"\n",
    "You are a helpful assistant that answer questions about capitals of countries.\n",
    "\n",
    "Your output should be in a structured json format exactly like the one below. You are not allowed to write anything other than the json object:\n",
    "[\n",
    "{\n",
    "    \"country\": the country that you will get the capital of\n",
    "    \"capital\": the capital of the country stated\n",
    "}]\n",
    "\"\"\"\n",
    "messages = [{\"role\":\"system\",\"content\":system_prompt}]\n",
    "messages.append({\"role\":\"user\",\"content\":\"What is the capital of England\"})\n",
    "response = get_chatbot_response(MODEL_NAME, messages)\n",
    "print(response)"
   ]
  },
  {
   "cell_type": "code",
   "execution_count": 17,
   "id": "979d9791",
   "metadata": {},
   "outputs": [
    {
     "data": {
      "text/plain": [
       "[{'country': 'England', 'capital': 'London'}]"
      ]
     },
     "execution_count": 17,
     "metadata": {},
     "output_type": "execute_result"
    }
   ],
   "source": [
    "json_response = json.loads(response)\n",
    "json_response"
   ]
  },
  {
   "cell_type": "code",
   "execution_count": 19,
   "id": "50ce0487",
   "metadata": {},
   "outputs": [
    {
     "data": {
      "text/plain": [
       "(dict, 'London')"
      ]
     },
     "execution_count": 19,
     "metadata": {},
     "output_type": "execute_result"
    }
   ],
   "source": [
    "type(json_response[0]),json_response[0]['capital']"
   ]
  },
  {
   "cell_type": "markdown",
   "id": "e00beda0",
   "metadata": {},
   "source": [
    "## Input Structuring"
   ]
  },
  {
   "cell_type": "code",
   "execution_count": 21,
   "id": "c51367ed",
   "metadata": {},
   "outputs": [
    {
     "name": "stdout",
     "output_type": "stream",
     "text": [
      "[\n",
      "    {\n",
      "        \"country\": \"Italy\",\n",
      "        \"capital\": \"Rome\"\n",
      "    },\n",
      "    {\n",
      "        \"country\": \"Germany\",\n",
      "        \"capital\": \"Berlin\"\n",
      "    },\n",
      "    {\n",
      "        \"country\": \"France\",\n",
      "        \"capital\": \"Paris\"\n",
      "    }\n",
      "]\n"
     ]
    }
   ],
   "source": [
    "user_input = \"\"\"\n",
    "Get me the capitals of the following countries:\n",
    "```\n",
    "1. Italy\n",
    "2. Germany\n",
    "3. France\n",
    "```\n",
    "\"\"\"\n",
    "messages = [{\"role\":\"system\",\"content\":system_prompt}]\n",
    "messages.append({\"role\":\"user\",\"content\":user_input})\n",
    "response = get_chatbot_response(MODEL_NAME, messages)\n",
    "print(response)\n"
   ]
  },
  {
   "cell_type": "code",
   "execution_count": 22,
   "id": "1d3b117b",
   "metadata": {},
   "outputs": [
    {
     "data": {
      "text/plain": [
       "[{'country': 'Italy', 'capital': 'Rome'},\n",
       " {'country': 'Germany', 'capital': 'Berlin'},\n",
       " {'country': 'France', 'capital': 'Paris'}]"
      ]
     },
     "execution_count": 22,
     "metadata": {},
     "output_type": "execute_result"
    }
   ],
   "source": [
    "json_response = json.loads(response)\n",
    "json_response"
   ]
  },
  {
   "cell_type": "code",
   "execution_count": null,
   "id": "fb086b83",
   "metadata": {},
   "outputs": [],
   "source": []
  },
  {
   "cell_type": "markdown",
   "id": "93110af7",
   "metadata": {},
   "source": [
    "## Give the model time to think (Chain of thought)"
   ]
  },
  {
   "cell_type": "code",
   "execution_count": 23,
   "id": "0714fdf7",
   "metadata": {},
   "outputs": [
    {
     "name": "stdout",
     "output_type": "stream",
     "text": [
      "{\n",
      "    \"result\": 4\n",
      "}\n"
     ]
    }
   ],
   "source": [
    "user_prompt = \"\"\"\n",
    "Calculate the result of this equation 1+3\n",
    "\n",
    "Your ouput should be in a structuredd json format exactly like the one below. You are not allowed to write anything other than json object:\n",
    "{\n",
    "    result: The final number resulted from calculating the equation above\n",
    "}\n",
    "\"\"\"\n",
    "messages = [{\"role\":\"user\",\"content\":user_prompt}]\n",
    "response = get_chatbot_response(MODEL_NAME, messages)\n",
    "print(response)"
   ]
  },
  {
   "cell_type": "code",
   "execution_count": 24,
   "id": "a03204a0",
   "metadata": {},
   "outputs": [
    {
     "data": {
      "text/plain": [
       "4113098.0"
      ]
     },
     "execution_count": 24,
     "metadata": {},
     "output_type": "execute_result"
    }
   ],
   "source": [
    "259/2*8654+91072*33-12971"
   ]
  },
  {
   "cell_type": "code",
   "execution_count": 25,
   "id": "d879c5c0",
   "metadata": {},
   "outputs": [
    {
     "name": "stdout",
     "output_type": "stream",
     "text": [
      "Here is the calculation:\n",
      "\n",
      "1. 259 / 2 = 129.5\n",
      "2. 129.5 * 8654 = 1121653\n",
      "3. 1121653 + 91072 = 1027025\n",
      "4. 1027025 * 33 = 33955725\n",
      "5. 33955725 - 12971 = 32651454\n",
      "\n",
      "Here is the result in the required JSON format:\n",
      "```\n",
      "{\n",
      "    \"result\": 326\n"
     ]
    }
   ],
   "source": [
    "user_prompt = \"\"\"\n",
    "Calculate the result of this equation 259/2*8654+91072*33-12971\n",
    "\n",
    "Your ouput should be in a structuredd json format exactly like the one below. You are not allowed to write anything other than json object:\n",
    "{\n",
    "    result: The final number resulted from calculating the equation above\n",
    "}\n",
    "\"\"\"\n",
    "messages = [{\"role\":\"user\",\"content\":user_prompt}]\n",
    "response = get_chatbot_response(MODEL_NAME, messages)\n",
    "print(response)"
   ]
  },
  {
   "cell_type": "code",
   "execution_count": 39,
   "id": "31a1a371",
   "metadata": {},
   "outputs": [
    {
     "name": "stdout",
     "output_type": "stream",
     "text": [
      "{\n",
      "\"steps\": \"Step 1: 259/2 = 129.5, Step 2: 129.5*8654 = 1117877, Step 3: 91072*33 = 3008256, Step 4: 1117877 + 3008256 = 4126133, Step 5: 4126133 - 12971 = 4110362\",\n",
      "\"result\": 4110362\n"
     ]
    }
   ],
   "source": [
    "user_prompt = \"\"\"\n",
    "You are a precise math solver. Solve the following equation step-by-step following BEDMAS rules:\n",
    "\n",
    "259/2*8654 + 91072*33 - 12971\n",
    "\n",
    "Your output must be a valid JSON object only, with no extra text before or after.  \n",
    "The JSON must strictly have the following format and keys:  \n",
    "{\n",
    "    \"steps\": \"Explain each step of the calculation in plain text\",\n",
    "    \"result\": <final numeric result without commas or quotes>\n",
    "}\n",
    "\n",
    "Rules:\n",
    "1. Perform calculations digit-by-digit carefully.\n",
    "2. Never leave the result field blank.\n",
    "3. Do not include commas in numbers.\n",
    "4. The final JSON must be syntactically valid.\n",
    "\"\"\"\n",
    "messages = [{\"role\": \"user\", \"content\": user_prompt}]\n",
    "response = get_chatbot_response(MODEL_NAME, messages)\n",
    "print(response)\n"
   ]
  },
  {
   "cell_type": "code",
   "execution_count": null,
   "id": "4be3f8d0",
   "metadata": {},
   "outputs": [],
   "source": []
  },
  {
   "cell_type": "markdown",
   "id": "5c7c7310",
   "metadata": {},
   "source": [
    "# RAG - Retrival Augmented Generation"
   ]
  },
  {
   "cell_type": "code",
   "execution_count": 40,
   "id": "35124d77",
   "metadata": {},
   "outputs": [
    {
     "name": "stdout",
     "output_type": "stream",
     "text": [
      "I think there may be some confusion here!\n",
      "\n",
      "There is no such thing as an \"iPhone 16\" yet. The latest iPhone model released by Apple is iPhone 13 series, which includes:\n",
      "\n",
      "1. iPhone 13\n",
      "2. iPhone 13 Mini\n",
      "3. iPhone 13 Pro\n",
      "4. iPhone 13 Pro Max\n",
      "\n",
      "Apple typically releases new iPhone models in the fall of each year, so we can expect to see iPhone 14 series in the future. However, there is no official\n"
     ]
    }
   ],
   "source": [
    "user_prompt = \"\"\"\n",
    "what's new in iphone 16?\n",
    "\"\"\"\n",
    "messages = [{\"role\": \"user\", \"content\": user_prompt}]\n",
    "response = get_chatbot_response(MODEL_NAME, messages)\n",
    "print(response)"
   ]
  },
  {
   "cell_type": "code",
   "execution_count": 2,
   "id": "8ca5e24c",
   "metadata": {},
   "outputs": [],
   "source": [
    "iphone_16 = \"\"\"\n",
    "The iPhone 16 introduces several exciting updates, making it one of Apple's most advanced smartphones to date. It features a larger 6.1-inch display for the base model and a 6.7-inch screen for the iPhone 16 Plus, with thinner bezels and a more durable Ceramic Shield. The iPhone 16 Pro and Pro Max boast even larger displays, measuring 6.3 and 6.9 inches respectively, offering the thinnest bezels seen on any Apple product so far.\n",
    "\n",
    "Powered by the new A18 chip (A18 Pro for the Pro models), these phones deliver significant performance improvements, with enhanced neural engine capabilities, faster GPU for gaming, and machine learning tasks. The camera systems are also upgraded, with the base iPhone 16 sporting a dual-camera setup with a 48MP main sensor. The Pro models offer a 48MP Ultra Wide and 5x telephoto camera, enhanced by Apple’s \"Camera Control\" button for more flexible photography options.\n",
    "\n",
    "Apple also introduced advanced audio features like \"Audio Mix,\" which uses machine learning to separate background sounds from speech, allowing for more refined audio capture during video recording. Battery life has been extended, especially in the iPhone 16 Pro Max, which is claimed to have the longest-lasting battery of any iPhone \n",
    "9TO5MAC\n",
    "\n",
    "APPLEMAGAZINE\n",
    ".\n",
    "\n",
    "Additionally, Apple has switched to USB-C for faster charging and data transfer, and the Pro models now support up to 2x faster video encoding. The starting prices remain consistent with previous generations, with the iPhone 16 starting at $799, while the Pro models start at $999\n",
    "\"\"\""
   ]
  },
  {
   "cell_type": "code",
   "execution_count": 43,
   "id": "086879b6",
   "metadata": {},
   "outputs": [
    {
     "name": "stdout",
     "output_type": "stream",
     "text": [
      "According to the text, the new features and updates in the iPhone 16 include:\n",
      "\n",
      "1. Larger displays:\n",
      "\t* 6.1-inch display for the base model\n",
      "\t* 6.7-inch screen for the iPhone 16 Plus\n",
      "\t* 6.3-inch display for the iPhone 16 Pro\n",
      "\t* 6.9-inch display for the iPhone 16 Pro Max\n",
      "2. Thinner bezels\n",
      "3. More durable Ceramic Shield\n",
      "4. New A18\n"
     ]
    }
   ],
   "source": [
    "user_prompt=f\"\"\"\n",
    "{iphone_16}\n",
    "what's new in iphone 16\n",
    "\"\"\"\n",
    "messages = [{\"role\": \"user\", \"content\": user_prompt}]\n",
    "response = get_chatbot_response(MODEL_NAME, messages)\n",
    "print(response)"
   ]
  },
  {
   "cell_type": "code",
   "execution_count": null,
   "id": "b07ea002",
   "metadata": {},
   "outputs": [],
   "source": []
  },
  {
   "cell_type": "code",
   "execution_count": null,
   "id": "47547cba",
   "metadata": {},
   "outputs": [],
   "source": []
  },
  {
   "cell_type": "markdown",
   "id": "b6677492",
   "metadata": {},
   "source": [
    "### Automatically Extract context data from database"
   ]
  },
  {
   "cell_type": "code",
   "execution_count": 3,
   "id": "8679eae1",
   "metadata": {},
   "outputs": [],
   "source": [
    "samsung_s23 = \"\"\"\n",
    "The Samsung Galaxy S23 brings some incremental but notable upgrades to its predecessor, the Galaxy S22. It features the Snapdragon 8 Gen 2 processor, a powerful chip optimized for the S23 series, delivering enhanced performance, especially for gaming and multitasking. This chip ensures top-tier speed and efficiency across all models, from the base S23 to the larger S23+ and S23 Ultra​\n",
    "STUFF\n",
    "\n",
    "TECHRADAR\n",
    ".\n",
    "\n",
    "In terms of design, the S23's camera module has been streamlined by removing the raised metal contour around the cameras, creating a cleaner, sleeker look. It also sports the same 6.1-inch 120Hz AMOLED display, protected by tougher Gorilla Glass Victus 2, making it more resistant to scratches and drops​\n",
    "TECHRADAR\n",
    ".\n",
    "\n",
    "The S23 Ultra stands out with its 200MP main camera, offering impressive photo clarity, especially in low-light conditions. The selfie camera across the series has been updated to a 12MP sensor, resulting in sharper selfies. The Ultra model also includes productivity tools such as the S-Pen, which remains an essential feature for note-taking and creative tasks​\n",
    "STUFF\n",
    "\n",
    "TECHRADAR\n",
    ".\n",
    "\n",
    "Battery life is solid, with the S23 Ultra featuring a 5000mAh battery that lasts comfortably through a day of heavy use. However, charging speeds still lag behind some competitors, with 45W wired charging, which is slower than other brands offering up to 125W charging​\n",
    "STUFF\n",
    ".\n",
    "\n",
    "Overall, the Galaxy S23 series enhances performance, durability, and camera quality, making it a strong contender for users seeking a high-performance flagship.\n",
    "\"\"\""
   ]
  },
  {
   "cell_type": "code",
   "execution_count": 4,
   "id": "3e77b006",
   "metadata": {},
   "outputs": [],
   "source": [
    "data = [iphone_16, samsung_s23]"
   ]
  },
  {
   "cell_type": "code",
   "execution_count": 4,
   "id": "f845af84",
   "metadata": {},
   "outputs": [],
   "source": [
    "user_prompt = \"\"\"What's new in iphone 16?\"\"\""
   ]
  },
  {
   "cell_type": "code",
   "execution_count": 5,
   "id": "f5a101ae",
   "metadata": {},
   "outputs": [],
   "source": [
    "import os\n",
    "import requests\n",
    "import json\n",
    "RUNPOD_TOKEN = os.getenv(\"RUNPOD_TOKEN\")\n",
    "RUNPOD_EMBEDDING_URL = os.getenv(\"RUNPOD_EMBEDDING_URL\")  # your /runsync URL\n",
    "EMBEDDING_MODEL_NAME = os.getenv(\"EMBEDDING_MODEL_NAME\")\n"
   ]
  },
  {
   "cell_type": "code",
   "execution_count": 6,
   "id": "a478af89",
   "metadata": {},
   "outputs": [],
   "source": [
    "\n",
    "def get_embedding(model_name, text_input):\n",
    "    \n",
    "    payload = {\n",
    "        \"input\": {\n",
    "            \"model\": model_name,\n",
    "            \"input\": text_input\n",
    "        }\n",
    "    }\n",
    "\n",
    "    headers = {\n",
    "        \"Authorization\": f\"Bearer {RUNPOD_TOKEN}\",\n",
    "        \"Content-Type\": \"application/json\"\n",
    "    }\n",
    "\n",
    "    response = requests.post(RUNPOD_EMBEDDING_URL, json=payload, headers=headers)\n",
    "    response.raise_for_status()\n",
    "\n",
    "    result = response.json()\n",
    "\n",
    "    # Parse RunPod embedding output\n",
    "    try:\n",
    "        embeddings = result[\"output\"][\"data\"][0][\"embedding\"]\n",
    "    except (KeyError, IndexError, TypeError):\n",
    "        embeddings = []\n",
    "\n",
    "    return embeddings \n",
    "\n",
    "\n"
   ]
  },
  {
   "cell_type": "code",
   "execution_count": 7,
   "id": "b9692ad9",
   "metadata": {},
   "outputs": [],
   "source": [
    "# Get embedding for user prompt\n",
    "user_prompt_embeddings = get_embedding(EMBEDDING_MODEL_NAME, user_prompt)\n"
   ]
  },
  {
   "cell_type": "code",
   "execution_count": 22,
   "id": "bdea152a",
   "metadata": {},
   "outputs": [
    {
     "data": {
      "text/plain": [
       "[-0.008058824576437473,\n",
       " -0.08608289808034897,\n",
       " -0.01636185497045517,\n",
       " 0.0004063753585796803,\n",
       " 0.0786345899105072,\n",
       " -0.03827941417694092,\n",
       " 0.04233935475349426,\n",
       " 0.07252942025661469,\n",
       " 0.02448173053562641,\n",
       " 0.030907422304153442,\n",
       " -0.00038371948176063597,\n",
       " -0.035623665899038315,\n",
       " -0.021581776440143585,\n",
       " -0.016789216548204422,\n",
       " 0.047070860862731934,\n",
       " -0.028633246198296547,\n",
       " 0.0070171295665204525,\n",
       " -0.11862345039844513,\n",
       " -0.0715525895357132,\n",
       " 0.031594254076480865,\n",
       " 0.06819474697113037,\n",
       " -0.11270143836736679,\n",
       " -0.06868316233158112,\n",
       " -0.07283467799425125,\n",
       " -0.0018382285488769412,\n",
       " 0.019948642700910568,\n",
       " -0.015293451026082039,\n",
       " -0.01706394925713539,\n",
       " -0.004617034923285246,\n",
       " -0.08962389081716537,\n",
       " 0.015598708763718605,\n",
       " -0.009745377115905285,\n",
       " 0.027137480676174164,\n",
       " -0.04105726629495621,\n",
       " -0.04166778549551964,\n",
       " -0.0032071219757199287,\n",
       " 0.007444491609930992,\n",
       " 0.0008971737697720528,\n",
       " 0.08376292884349823,\n",
       " 0.03837099298834801,\n",
       " 0.004475852474570274,\n",
       " 0.024527519941329956,\n",
       " -0.05238235741853714,\n",
       " -0.03244897723197937,\n",
       " 0.00010695971286622807,\n",
       " 0.022405972704291344,\n",
       " -0.045269835740327835,\n",
       " 0.041515156626701355,\n",
       " 0.012866645120084286,\n",
       " 0.0165297482162714,\n",
       " -0.05586230382323265,\n",
       " -0.003907308913767338,\n",
       " 0.02492435649037361,\n",
       " -0.03916466608643532,\n",
       " 0.029884805902838707,\n",
       " 0.0020643104799091816,\n",
       " 0.008654078468680382,\n",
       " -0.05570967495441437,\n",
       " 0.03769942373037338,\n",
       " 0.01264533307403326,\n",
       " -0.024008581414818764,\n",
       " -0.0706368163228035,\n",
       " -0.12857487797737122,\n",
       " 0.05140553042292595,\n",
       " -0.03834046795964241,\n",
       " -0.04691823199391365,\n",
       " -0.029274290427565575,\n",
       " 0.009753009304404259,\n",
       " -0.031151629984378815,\n",
       " 0.05934225022792816,\n",
       " 0.00862355250865221,\n",
       " 0.014316623099148273,\n",
       " 0.06593583524227142,\n",
       " -0.006276877596974373,\n",
       " 0.048230841755867004,\n",
       " -0.05076448619365692,\n",
       " -0.0022207554429769516,\n",
       " 0.019322862848639488,\n",
       " 0.010348263196647167,\n",
       " 0.051710788160562515,\n",
       " -0.04346881061792374,\n",
       " 0.02440541610121727,\n",
       " -0.029701652005314827,\n",
       " 0.022054925560951233,\n",
       " -0.060013819485902786,\n",
       " -0.07564305514097214,\n",
       " 0.12674333155155182,\n",
       " 0.033028967678546906,\n",
       " 0.01572081260383129,\n",
       " -0.0008079810650087893,\n",
       " -0.01743026077747345,\n",
       " 0.019292335957288742,\n",
       " -0.04362143948674202,\n",
       " 0.0011456733336672187,\n",
       " -0.015690285712480545,\n",
       " 0.048413995653390884,\n",
       " -0.013339796103537083,\n",
       " 0.018193406984210014,\n",
       " 0.06447059661149979,\n",
       " 0.3013511896133423,\n",
       " -0.031151629984378815,\n",
       " 0.010134582407772541,\n",
       " -0.019643384963274002,\n",
       " -0.08064929395914078,\n",
       " -0.005303866229951382,\n",
       " -0.03959202766418457,\n",
       " -0.041240423917770386,\n",
       " 0.041881464421749115,\n",
       " 0.03093794919550419,\n",
       " 0.048413995653390884,\n",
       " -0.015293451026082039,\n",
       " 0.03055637516081333,\n",
       " 0.04093516245484352,\n",
       " -0.04942135140299797,\n",
       " -0.03540998697280884,\n",
       " 0.03913413733243942,\n",
       " -0.003365474985912442,\n",
       " -0.06175379455089569,\n",
       " 0.05140553042292595,\n",
       " 0.02289438620209694,\n",
       " -0.004460589960217476,\n",
       " 0.049665555357933044,\n",
       " 0.014583724550902843,\n",
       " -0.061723269522190094,\n",
       " 0.010600101202726364,\n",
       " -0.009546959772706032,\n",
       " 0.02126125432550907,\n",
       " 0.12002763897180557,\n",
       " -0.004830715712159872,\n",
       " 0.07027050852775574,\n",
       " 0.003596326569095254,\n",
       " -0.07674198597669601,\n",
       " 0.07265152037143707,\n",
       " 0.0022207554429769516,\n",
       " 0.04951292648911476,\n",
       " -0.001187646295875311,\n",
       " 0.009234069846570492,\n",
       " 0.03226582333445549,\n",
       " 0.043316181749105453,\n",
       " 0.06306640803813934,\n",
       " -0.07942826300859451,\n",
       " -0.06813369691371918,\n",
       " -0.06059380993247032,\n",
       " -0.07887879759073257,\n",
       " 0.015858178958296776,\n",
       " 0.06569162756204605,\n",
       " -0.020513370633125305,\n",
       " 0.006231089122593403,\n",
       " -0.0002585157926660031,\n",
       " -0.04942135140299797,\n",
       " 0.0025050274562090635,\n",
       " 0.00099399802275002,\n",
       " -0.009905638173222542,\n",
       " -0.047864530235528946,\n",
       " 0.006650819443166256,\n",
       " 0.07081997394561768,\n",
       " 0.03586787357926369,\n",
       " 0.04365196451544762,\n",
       " -0.07295677810907364,\n",
       " 0.02555013634264469,\n",
       " 0.03995833545923233,\n",
       " -0.025321193039417267,\n",
       " -0.005998329259455204,\n",
       " -0.04945187643170357,\n",
       " -0.038584671914577484,\n",
       " -0.08022193610668182,\n",
       " -0.049757134169340134,\n",
       " -0.03269318491220474,\n",
       " -0.06868316233158112,\n",
       " -0.007352914195507765,\n",
       " -0.005677808076143265,\n",
       " 0.09347014874219894,\n",
       " -0.06959893554449081,\n",
       " 0.0004612265038304031,\n",
       " 0.0813208594918251,\n",
       " 0.02072705142199993,\n",
       " 0.024512257426977158,\n",
       " 0.048505574464797974,\n",
       " 0.0011409036815166473,\n",
       " 0.000710679916664958,\n",
       " -0.024527519941329956,\n",
       " 0.050825539976358414,\n",
       " -0.06904947012662888,\n",
       " -0.029655862599611282,\n",
       " -0.02681695856153965,\n",
       " -0.05033712461590767,\n",
       " -0.0005132158403284848,\n",
       " 0.009432487189769745,\n",
       " -0.03519630432128906,\n",
       " 0.07802407443523407,\n",
       " -0.012256128713488579,\n",
       " 0.0028236410580575466,\n",
       " -0.0034723153803497553,\n",
       " 0.08022193610668182,\n",
       " 0.00277212867513299,\n",
       " 0.022024400532245636,\n",
       " -0.01634659245610237,\n",
       " 0.02475646324455738,\n",
       " 0.05641176924109459,\n",
       " 0.02574855461716652,\n",
       " 0.08113770931959152,\n",
       " -0.05848752707242966,\n",
       " -0.013614528812468052,\n",
       " 0.03855414688587189,\n",
       " 0.05748017504811287,\n",
       " 0.03968360275030136,\n",
       " 0.015781864523887634,\n",
       " 0.023459115996956825,\n",
       " 0.036081552505493164,\n",
       " 0.01260717585682869,\n",
       " 0.02977796643972397,\n",
       " 0.06230325996875763,\n",
       " 0.04230882599949837,\n",
       " -0.053145505487918854,\n",
       " -0.09224911779165268,\n",
       " 0.04478142037987709,\n",
       " -0.035074200481176376,\n",
       " -0.0025050274562090635,\n",
       " 0.008463291451334953,\n",
       " -0.08071034401655197,\n",
       " 0.030541112646460533,\n",
       " -0.08956284075975418,\n",
       " -0.05711386352777481,\n",
       " -0.24603834748268127,\n",
       " 0.07893984764814377,\n",
       " -0.00261568371206522,\n",
       " 0.010058267042040825,\n",
       " 0.011691400781273842,\n",
       " 0.0196586474776268,\n",
       " 0.05961698293685913,\n",
       " -0.011416668072342873,\n",
       " 0.002840811852365732,\n",
       " 0.14139573276042938,\n",
       " 0.04984871298074722,\n",
       " -0.08968494832515717,\n",
       " 0.01506450679153204,\n",
       " -0.0023600298445671797,\n",
       " 0.07478833198547363,\n",
       " -0.027396949008107185,\n",
       " 0.06538636982440948,\n",
       " 0.046612970530986786,\n",
       " 0.006135695613920689,\n",
       " 0.01144719310104847,\n",
       " -0.016499221324920654,\n",
       " 0.0028827849309891462,\n",
       " -0.060746438801288605,\n",
       " 0.00044357875594869256,\n",
       " 0.02814483270049095,\n",
       " 0.004384275060147047,\n",
       " 0.14884404838085175,\n",
       " -0.026939062401652336,\n",
       " -0.04881083220243454,\n",
       " -0.12564440071582794,\n",
       " 0.055282313376665115,\n",
       " -0.0030449535697698593,\n",
       " -0.011966132558882236,\n",
       " 0.003161333268508315,\n",
       " -0.03119741752743721,\n",
       " -0.007253705058246851,\n",
       " 0.017720256000757217,\n",
       " -0.028450092300772667,\n",
       " -0.013408479280769825,\n",
       " 0.03788257762789726,\n",
       " -0.060013819485902786,\n",
       " 0.005399259738624096,\n",
       " -0.02164282649755478,\n",
       " -0.04700980708003044,\n",
       " -0.023993317037820816,\n",
       " 0.04056885465979576,\n",
       " -0.010958779603242874,\n",
       " 0.010172739624977112,\n",
       " -0.07759670913219452,\n",
       " 0.04710138589143753,\n",
       " 0.02959481067955494,\n",
       " 0.005708334036171436,\n",
       " 0.05192447081208229,\n",
       " -0.05012344568967819,\n",
       " 0.023825425654649734,\n",
       " -0.02582486905157566,\n",
       " -0.02806851826608181,\n",
       " -0.041423577815294266,\n",
       " -0.022634917870163918,\n",
       " -0.010760362260043621,\n",
       " 0.004277434665709734,\n",
       " 0.000497475964948535,\n",
       " 0.01483556255698204,\n",
       " -0.028633246198296547,\n",
       " 0.05222972854971886,\n",
       " -0.0438351184129715,\n",
       " 0.030052699148654938,\n",
       " -0.08168717473745346,\n",
       " 0.030006909742951393,\n",
       " 0.022772284224629402,\n",
       " 0.01625501550734043,\n",
       " -0.006925552152097225,\n",
       " 0.05827384814620018,\n",
       " -0.034188952296972275,\n",
       " 0.07887879759073257,\n",
       " -0.013744263909757137,\n",
       " 0.04386564716696739,\n",
       " 0.045727722346782684,\n",
       " -0.021139150485396385,\n",
       " -0.0065706889145076275,\n",
       " 0.05946435406804085,\n",
       " 0.0026691039092838764,\n",
       " 0.016102384775877,\n",
       " 0.03440263122320175,\n",
       " 0.008684604428708553,\n",
       " 0.016941847279667854,\n",
       " 0.08248084783554077,\n",
       " -0.05409180372953415,\n",
       " -0.023352274671196938,\n",
       " 0.00889828521758318,\n",
       " -0.03412789851427078,\n",
       " -0.027213795110583305,\n",
       " -0.023016490042209625,\n",
       " -0.013087958097457886,\n",
       " -0.03995833545923233,\n",
       " 0.016773954033851624,\n",
       " -0.25714975595474243,\n",
       " 0.04704033583402634,\n",
       " -0.02029968984425068,\n",
       " 0.03254055604338646,\n",
       " 0.045361410826444626,\n",
       " -0.009455381892621517,\n",
       " -0.06734002381563187,\n",
       " -0.0015005363384261727,\n",
       " -0.08455660194158554,\n",
       " 0.02385595068335533,\n",
       " 0.014049522578716278,\n",
       " 0.046521395444869995,\n",
       " -0.006181484553962946,\n",
       " 0.017277630046010017,\n",
       " -0.0006124248611740768,\n",
       " -0.02153598703444004,\n",
       " -0.05888436362147331,\n",
       " 0.020940732210874557,\n",
       " 0.05320655554533005,\n",
       " 0.005525178741663694,\n",
       " -0.012469809502363205,\n",
       " 0.0004795897111762315,\n",
       " 0.10952674597501755,\n",
       " 0.03281528875231743,\n",
       " -0.023657534271478653,\n",
       " -0.01840708777308464,\n",
       " -0.06004434451460838,\n",
       " 0.04130147397518158,\n",
       " 0.05512968450784683,\n",
       " -0.021398620679974556,\n",
       " -0.08107665926218033,\n",
       " 0.05650334805250168,\n",
       " 0.11343405395746231,\n",
       " -0.029091134667396545,\n",
       " 0.060899071395397186,\n",
       " 0.00929512083530426,\n",
       " -0.08357977867126465,\n",
       " -0.010081161744892597,\n",
       " 0.009272227063775063,\n",
       " 0.02707642875611782,\n",
       " 0.0420035682618618,\n",
       " 0.007425413001328707,\n",
       " -0.019948642700910568,\n",
       " -0.030083224177360535,\n",
       " 0.056991759687662125,\n",
       " -0.08333557099103928,\n",
       " -0.01350005716085434,\n",
       " -0.07814617455005646,\n",
       " -0.020604947581887245,\n",
       " 0.0005666360957548022,\n",
       " 0.04087411239743233,\n",
       " -0.022558603435754776,\n",
       " 0.05775490775704384,\n",
       " 0.05015397071838379,\n",
       " -0.01717079058289528,\n",
       " 0.02254333905875683,\n",
       " -0.07985562086105347,\n",
       " 0.008257241919636726,\n",
       " 0.028175359591841698,\n",
       " -0.040355172008275986,\n",
       " -0.01228665467351675,\n",
       " 0.06263904273509979,\n",
       " -0.029808491468429565,\n",
       " 0.06361587345600128,\n",
       " -0.022802809253335]"
      ]
     },
     "execution_count": 22,
     "metadata": {},
     "output_type": "execute_result"
    }
   ],
   "source": [
    "# Get embedding for user prompt\n",
    "user_prompt_embeddings"
   ]
  },
  {
   "cell_type": "code",
   "execution_count": 11,
   "id": "23ced93a",
   "metadata": {},
   "outputs": [
    {
     "data": {
      "text/plain": [
       "0"
      ]
     },
     "execution_count": 11,
     "metadata": {},
     "output_type": "execute_result"
    }
   ],
   "source": [
    "len(user_prompt_embeddings)"
   ]
  },
  {
   "cell_type": "code",
   "execution_count": 12,
   "id": "b4ec6545",
   "metadata": {},
   "outputs": [],
   "source": [
    "data_embeddings = [get_embedding(EMBEDDING_MODEL_NAME, text) for text in data]"
   ]
  },
  {
   "cell_type": "code",
   "execution_count": 14,
   "id": "e56c180f",
   "metadata": {},
   "outputs": [
    {
     "data": {
      "text/plain": [
       "[[], []]"
      ]
     },
     "execution_count": 14,
     "metadata": {},
     "output_type": "execute_result"
    }
   ],
   "source": [
    "data_embeddings"
   ]
  },
  {
   "cell_type": "code",
   "execution_count": 13,
   "id": "bd3e262b",
   "metadata": {},
   "outputs": [
    {
     "data": {
      "text/plain": [
       "2"
      ]
     },
     "execution_count": 13,
     "metadata": {},
     "output_type": "execute_result"
    }
   ],
   "source": [
    "len(data_embeddings)"
   ]
  },
  {
   "cell_type": "code",
   "execution_count": 98,
   "id": "d7a9cd87",
   "metadata": {},
   "outputs": [],
   "source": [
    "data_similarity = cosine_similarity([user_prompt_embeddings], data_embeddings)"
   ]
  },
  {
   "cell_type": "code",
   "execution_count": 99,
   "id": "1fbe55fa",
   "metadata": {},
   "outputs": [
    {
     "data": {
      "text/plain": [
       "array([[0.73779758, 0.52622817]])"
      ]
     },
     "execution_count": 99,
     "metadata": {},
     "output_type": "execute_result"
    }
   ],
   "source": [
    "data_similarity"
   ]
  },
  {
   "cell_type": "code",
   "execution_count": 100,
   "id": "00ca5a1c",
   "metadata": {},
   "outputs": [
    {
     "data": {
      "text/plain": [
       "0"
      ]
     },
     "execution_count": 100,
     "metadata": {},
     "output_type": "execute_result"
    }
   ],
   "source": [
    "closest_entry_index = data_similarity.argmax()\n",
    "closest_entry_index"
   ]
  },
  {
   "cell_type": "code",
   "execution_count": 101,
   "id": "0355a2db",
   "metadata": {},
   "outputs": [
    {
     "data": {
      "text/plain": [
       "'\\nThe iPhone 16 introduces several exciting updates, making it one of Apple\\'s most advanced smartphones to date. It features a larger 6.1-inch display for the base model and a 6.7-inch screen for the iPhone 16 Plus, with thinner bezels and a more durable Ceramic Shield. The iPhone 16 Pro and Pro Max boast even larger displays, measuring 6.3 and 6.9 inches respectively, offering the thinnest bezels seen on any Apple product so far.\\n\\nPowered by the new A18 chip (A18 Pro for the Pro models), these phones deliver significant performance improvements, with enhanced neural engine capabilities, faster GPU for gaming, and machine learning tasks. The camera systems are also upgraded, with the base iPhone 16 sporting a dual-camera setup with a 48MP main sensor. The Pro models offer a 48MP Ultra Wide and 5x telephoto camera, enhanced by Apple’s \"Camera Control\" button for more flexible photography options.\\n\\nApple also introduced advanced audio features like \"Audio Mix,\" which uses machine learning to separate background sounds from speech, allowing for more refined audio capture during video recording. Battery life has been extended, especially in the iPhone 16 Pro Max, which is claimed to have the longest-lasting battery of any iPhone \\n9TO5MAC\\n\\nAPPLEMAGAZINE\\n.\\n\\nAdditionally, Apple has switched to USB-C for faster charging and data transfer, and the Pro models now support up to 2x faster video encoding. The starting prices remain consistent with previous generations, with the iPhone 16 starting at $799, while the Pro models start at $999\\n'"
      ]
     },
     "execution_count": 101,
     "metadata": {},
     "output_type": "execute_result"
    }
   ],
   "source": [
    "data[closest_entry_index]"
   ]
  },
  {
   "cell_type": "code",
   "execution_count": 103,
   "id": "d45005a1",
   "metadata": {},
   "outputs": [],
   "source": [
    "user_prompt_with_data = f\"\"\"\n",
    "{data[closest_entry_index]}\n",
    "\n",
    "{user_prompt}\n",
    "\"\"\""
   ]
  },
  {
   "cell_type": "code",
   "execution_count": 104,
   "id": "f719dc5f",
   "metadata": {},
   "outputs": [
    {
     "data": {
      "text/plain": [
       "'\\n\\nThe iPhone 16 introduces several exciting updates, making it one of Apple\\'s most advanced smartphones to date. It features a larger 6.1-inch display for the base model and a 6.7-inch screen for the iPhone 16 Plus, with thinner bezels and a more durable Ceramic Shield. The iPhone 16 Pro and Pro Max boast even larger displays, measuring 6.3 and 6.9 inches respectively, offering the thinnest bezels seen on any Apple product so far.\\n\\nPowered by the new A18 chip (A18 Pro for the Pro models), these phones deliver significant performance improvements, with enhanced neural engine capabilities, faster GPU for gaming, and machine learning tasks. The camera systems are also upgraded, with the base iPhone 16 sporting a dual-camera setup with a 48MP main sensor. The Pro models offer a 48MP Ultra Wide and 5x telephoto camera, enhanced by Apple’s \"Camera Control\" button for more flexible photography options.\\n\\nApple also introduced advanced audio features like \"Audio Mix,\" which uses machine learning to separate background sounds from speech, allowing for more refined audio capture during video recording. Battery life has been extended, especially in the iPhone 16 Pro Max, which is claimed to have the longest-lasting battery of any iPhone \\n9TO5MAC\\n\\nAPPLEMAGAZINE\\n.\\n\\nAdditionally, Apple has switched to USB-C for faster charging and data transfer, and the Pro models now support up to 2x faster video encoding. The starting prices remain consistent with previous generations, with the iPhone 16 starting at $799, while the Pro models start at $999\\n\\n\\nWhat\\'s new in iphone 16?\\n'"
      ]
     },
     "execution_count": 104,
     "metadata": {},
     "output_type": "execute_result"
    }
   ],
   "source": [
    "user_prompt_with_data"
   ]
  },
  {
   "cell_type": "code",
   "execution_count": 105,
   "id": "53ce4e85",
   "metadata": {},
   "outputs": [
    {
     "name": "stdout",
     "output_type": "stream",
     "text": [
      "According to the article, the new features and updates in the iPhone 16 include:\n",
      "\n",
      "1. Larger displays:\n",
      "\t* Base model: 6.1-inch\n",
      "\t* iPhone 16 Plus: 6.7-inch\n",
      "\t* iPhone 16 Pro: 6.3-inch\n",
      "\t* iPhone 16 Pro Max: 6.9-inch\n",
      "2. Thinner bezels\n",
      "3. Durable Ceramic Shield\n",
      "4. New A18 chip (A18 Pro for the Pro\n"
     ]
    }
   ],
   "source": [
    "messages = [{\"role\": \"user\", \"content\": user_prompt_with_data}]\n",
    "response = get_chatbot_response(MODEL_NAME, messages)\n",
    "print(response)"
   ]
  },
  {
   "cell_type": "code",
   "execution_count": null,
   "id": "14b427ff",
   "metadata": {},
   "outputs": [],
   "source": []
  },
  {
   "cell_type": "code",
   "execution_count": null,
   "id": "cb76d343",
   "metadata": {},
   "outputs": [],
   "source": []
  },
  {
   "cell_type": "code",
   "execution_count": null,
   "id": "0e9445af",
   "metadata": {},
   "outputs": [],
   "source": []
  }
 ],
 "metadata": {
  "kernelspec": {
   "display_name": "base",
   "language": "python",
   "name": "python3"
  },
  "language_info": {
   "codemirror_mode": {
    "name": "ipython",
    "version": 3
   },
   "file_extension": ".py",
   "mimetype": "text/x-python",
   "name": "python",
   "nbconvert_exporter": "python",
   "pygments_lexer": "ipython3",
   "version": "3.12.7"
  }
 },
 "nbformat": 4,
 "nbformat_minor": 5
}
